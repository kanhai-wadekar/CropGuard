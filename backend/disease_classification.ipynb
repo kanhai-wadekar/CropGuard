{
  "cells": [
    {
      "cell_type": "code",
      "execution_count": 8,
      "metadata": {
        "id": "r5nrYAX4kJ_P"
      },
      "outputs": [],
      "source": [
        "!pip install -q torch pillow"
      ]
    },
    {
      "cell_type": "code",
      "execution_count": 11,
      "metadata": {
        "colab": {
          "base_uri": "https://localhost:8080/"
        },
        "id": "0kC3YQ7_jfIB",
        "outputId": "ad242231-7efc-4aba-d1d3-0ed15a7e9d30"
      },
      "outputs": [
        {
          "name": "stdout",
          "output_type": "stream",
          "text": [
            "source of damage is: weed\n"
          ]
        }
      ],
      "source": [
        "import torch\n",
        "from PIL import Image\n",
        "from transformers import AutoImageProcessor, AutoModelForImageClassification\n",
        "\n",
        "processor = AutoImageProcessor.from_pretrained(\"Professor/CGIAR-Crop-disease\")\n",
        "model = AutoModelForImageClassification.from_pretrained(\"Professor/CGIAR-Crop-disease\")\n",
        "\n",
        "# Path to the sample JPEG image\n",
        "image_path = \"/content/image2.jpeg\"\n",
        "\n",
        "# Open the image using PIL\n",
        "image = Image.open(image_path)\n",
        "\n",
        "# Preprocess the image\n",
        "inputs = processor(images=image, return_tensors=\"pt\")\n",
        "\n",
        "# Get model predictions\n",
        "outputs = model(**inputs)\n",
        "logits = outputs.logits\n",
        "\n",
        "# Apply softmax to get probabilities\n",
        "probabilities = torch.nn.functional.softmax(logits, dim=-1)\n",
        "\n",
        "# Get the predicted class index\n",
        "predicted_class_idx = probabilities.argmax(-1).item()\n",
        "\n",
        "mapping = {\n",
        "    0: \"weed\",\n",
        "    1: \"disease\",\n",
        "    2: \"healthy\",\n",
        "    3: \"drought\",\n",
        "    4: \"nutrient deficiency\",\n",
        "}\n",
        "\n",
        "# Print the predicted label\n",
        "print('source of damage is: ' + mapping[predicted_class_idx])"
      ]
    },
    {
      "cell_type": "code",
      "execution_count": null,
      "metadata": {
        "id": "Q29lgVZ-lkJf"
      },
      "outputs": [],
      "source": []
    }
  ],
  "metadata": {
    "colab": {
      "provenance": []
    },
    "kernelspec": {
      "display_name": "Python 3",
      "name": "python3"
    },
    "language_info": {
      "name": "python"
    }
  },
  "nbformat": 4,
  "nbformat_minor": 0
}
